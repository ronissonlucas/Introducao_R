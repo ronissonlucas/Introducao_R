{
 "cells": [
  {
   "cell_type": "markdown",
   "metadata": {},
   "source": [
    "# **Introdução ao R**"
   ]
  },
  {
   "cell_type": "markdown",
   "metadata": {},
   "source": [
    "#### Por que usar o R como linguagem de programação?"
   ]
  },
  {
   "cell_type": "markdown",
   "metadata": {},
   "source": [
    "* R é free e uma linguagem de programação estatística;\n",
    "* R é uma linguagem muito utilizada em econometria, Data Science, Machine Learning e estística (combinando elementos de outras linguagens como Stata/Julia);\n",
    "* Amplamente utilizado na academia e na indústria.\n",
    "* Extensa comunidade."
   ]
  },
  {
   "cell_type": "markdown",
   "metadata": {},
   "source": [
    "#### Principais bibliotecas do R"
   ]
  },
  {
   "cell_type": "markdown",
   "metadata": {},
   "source": [
    "* Dplyr: utilizada para manipulação de dados.\n",
    "* Ggplot2: principal biblioteca de visualização de dados.\n",
    "* Shiny:  construção de dashboards/aplicações web sem uso de JavaScript.\n",
    "* XGBoost: implementação em R do gradient boosting framework.\n",
    "* Caret: pacote para aplicações de Machine Learning (como pré-processamento, data splitting, Feature selection, training model, Variable importance estimation).\n",
    "* knitr: pacote muito útil para pesquisa científica, pois engloba estruturas como LaTeX e Markdown, para criação de relatórios.\n",
    "* plotly: biblioteca utilizada para criar gráficos de forma dinâmica."
   ]
  },
  {
   "cell_type": "markdown",
   "metadata": {},
   "source": [
    "#### Onde aprender?"
   ]
  },
  {
   "cell_type": "markdown",
   "metadata": {},
   "source": [
    "* https://data-flair.training/blogs/data-analytics-tutorial/\n",
    "* https://livro.curso-r.com/\n",
    "* https://www.tutorialspoint.com/r/index.htm"
   ]
  },
  {
   "cell_type": "markdown",
   "metadata": {},
   "source": [
    "O que veremos em sequência:\n",
    "* Declaração de variáveis e tipo de dados\n",
    "* Operadores\n",
    "* Estrutura condicional\n",
    "* Estatística Descritiva\n",
    "* Introdução à Econometria"
   ]
  },
  {
   "cell_type": "markdown",
   "metadata": {},
   "source": [
    "# **Econometria**"
   ]
  },
  {
   "cell_type": "markdown",
   "metadata": {},
   "source": [
    "#### **O que é Econometria ?**\n",
    "\n",
    "De maneira simples, o objetivo é estimar/mensurar relações econômicas.\n",
    "\n",
    "\n",
    "Aplicações\n",
    "\n",
    "* Relação entre o desempenho escolar e variáveis sócioeconômicas;\n",
    "    * Podemos usar microdados do INEP, por exemplo, para testar a relação entre variáveis sócioeconômicas dos municípios e o desempenho das notas.\n",
    "* Relação entre taxa de homicídios e desemprego, pobreza, renda;\n",
    "    * Variáveis de natureza econômicas são relevantes na compreensão da criminalidade?\n",
    "* Relação entre gasto em campanha e resultados eleitorais;\n",
    "* Relação entre o salário e o nível de instrução;\n",
    "    * Será que anos de escolaridade implicam em maiores níveis salariais?\n",
    "* Previsão da inflação, PIB, exportações;\n",
    "    * Podemos estimar os determinantes das exportações de um determinado produto, ou mesmo o forecasting.\n"
   ]
  },
  {
   "cell_type": "markdown",
   "metadata": {},
   "source": [
    "Regressão Linear"
   ]
  },
  {
   "cell_type": "markdown",
   "metadata": {},
   "source": [
    "* $\\mathbf{y}$: representa o fenômeno/variável target que queremos analisar em função de uma variável explicativa $\\mathbf{x}$ (ou mesmo conjunto de variáveis explicativas) e um termo de perturbação $\\mathbf{u}$ (ou termo de erro):\n",
    "$$ y = f(x)+u $$\n",
    "* Vamos focar inicialmente no problema que busca analisar a relação entre duas variáveis descrita por um modelo de regressão linear simples:\n",
    "$$ y  = \\beta_0+\\beta_1 x +u$$<br>\n",
    "Note que: $\\mathbf{y}$ é a variável dependente e $\\mathbf{x}$ é a variável explicativa (que prova as variações em $y$).<br>\n",
    "Exemplos<br>\n",
    "* $\\text{salário(w)} = \\beta_0+\\beta_1\\text{educação}+u$: o parâmetro $\\beta_1$ refere-se ao efeito do grau de escolaridade do indivíduo no salário.<br>\n",
    "* $\\text{taxa_crime(e)} = \\beta_0+\\beta_1\\text{quantidade_polícia}+u$: o parâmetro $\\beta_1$ refere-se a redução da taxa de criminalidade em função de um aumento na quantidade de força polícial.<br>\n",
    "* $\\text{vendas(s)} = \\beta_0+\\beta_1\\text{temperatura}+u$: para algum tipo de negócio o aumento da temperatura pode ter um efeito positivo na quantidade de vendas.<br>"
   ]
  },
  {
   "cell_type": "markdown",
   "metadata": {},
   "source": [
    "Terminologia do modelo de regressão linear simples:"
   ]
  },
  {
   "cell_type": "markdown",
   "metadata": {},
   "source": [
    "y|x\n",
    "-|-\n",
    "Variável Dependente|Variável Independente\n",
    "Variável Explicada|Variável Explicativa\n",
    "Variável de Resposta|Variáve de Controle\n",
    "Variável Prevista|Variável Previsora\n",
    "Regressando|Regressor"
   ]
  },
  {
   "cell_type": "markdown",
   "metadata": {},
   "source": [
    "Ou ainda:"
   ]
  },
  {
   "cell_type": "markdown",
   "metadata": {},
   "source": [
    "$\\underbrace{y}_{\\text{target}} = \\underbrace{\\beta_0+\\beta_1}_{\\text{coeficientes}} \\underbrace{  x}_{\\text{      input}} +\\underbrace{u}_{\\text{termo de erro}}$"
   ]
  },
  {
   "cell_type": "markdown",
   "metadata": {},
   "source": [
    "O termo de erro $\\mathbf{u}$ diz respeito a outros fatores que afetam $\\mathbf{y}$ mas não estão explícitos na equação da regressão. "
   ]
  },
  {
   "cell_type": "markdown",
   "metadata": {},
   "source": [
    "Relação linear entre $\\mathbf{y}$ e $\\mathbf{x}$: $\\mathbf{x}$ altera a variável $\\mathbf{y}$ linearmente. Uma implicação desta premissa seria que independentemente do valor inicial de $\\mathbf{x}$ teremos sempre o mesmo impacto de desta variável sobre $\\mathbf{y}$. <br>\n",
    "Lembre que a relação é linear nos parâmetros do modelo."
   ]
  },
  {
   "cell_type": "markdown",
   "metadata": {},
   "source": [
    "Considere um modelo populacional $y = \\beta_0+\\beta_1 x+u$ e uma amostra desta população $(x_i,y_i), i = 1, \\dots , n$. Podemos obter que os estimadores de MQO para uma regressão linear simples:"
   ]
  },
  {
   "cell_type": "markdown",
   "metadata": {},
   "source": [
    "$\\min_{\\hat{\\beta}_0, \\hat{\\beta}_1} \\sum_{i=1}^{n}\\hat{u}_i^2 = \\sum_{i=1}^{n}\\left(y_i-\\hat{\\beta}_0-\\hat{\\beta}_1x_i\\right)^2$\n",
    "\n",
    "$\\dfrac{\\partial \\sum_{i=1}^{n}\\hat{u}_i^2}{\\partial \\hat{\\beta}_0} = 0$\n",
    "\n",
    "$\\dfrac{\\partial \\sum_{i=1}^{n}\\hat{u}_i^2}{\\partial \\hat{\\beta}_0} = 0$"
   ]
  },
  {
   "cell_type": "markdown",
   "metadata": {},
   "source": [
    "$$ \\hat{\\beta}_0 = \\overline{y}-\\hat{\\beta}_1\\overline{x}$$"
   ]
  },
  {
   "cell_type": "markdown",
   "metadata": {},
   "source": [
    "$$\\hat{\\beta}_1 = \\dfrac{\\mathrm{cov(x,y)}}{\\mathrm{var(x)}} = \\dfrac{\\sum_{i=1}^{n}\\left(x_i-\\overline{x}\\right)\\left(y_i-\\overline{y}\\right)}{\\sum_{i=1}^{n}\\left(x_i-\\overline{x}\\right)^2}$$"
   ]
  },
  {
   "cell_type": "markdown",
   "metadata": {},
   "source": [
    "Modelo estimado:"
   ]
  },
  {
   "cell_type": "markdown",
   "metadata": {},
   "source": [
    "$$\\hat{y} = \\hat{\\beta}_0+\\hat{\\beta}_1 x$$"
   ]
  },
  {
   "cell_type": "markdown",
   "metadata": {},
   "source": [
    "Resíduo do modelo:"
   ]
  },
  {
   "cell_type": "markdown",
   "metadata": {},
   "source": [
    "$$\\hat{u}_i = y_i-\\hat{y}_i$$"
   ]
  },
  {
   "cell_type": "markdown",
   "metadata": {},
   "source": [
    "Assim o resíduo da regressão é definido como a diferença entre o valor $y_i$ (valor real) e o valor previsto/ajustado $\\hat{y}_i$. Se $\\hat{u}_i>0 \\Rightarrow$ então a reta subestima $y_i$; por outro lado, se $\\hat{u}_i<0$ então a reta superestima $y_i$. O mundo ideal seria $\\hat{u}_i = 0$, mas na prática teremos para a maior parte dos casos $\\hat{u}_i\\neq 0$."
   ]
  },
  {
   "cell_type": "markdown",
   "metadata": {},
   "source": [
    "Na prática teremos mais de uma variável explicativa e podemos então generalizar para um modelo com $K$ variáveis explicativas e incorporar mais mais fatores que podem explicar \n",
    "$y$.\n",
    "\n",
    "$$y = f(\\text{variável 1}, \\text{variável 2}, \\text{variável 3}, \\dots, \\text{variável n})$$"
   ]
  },
  {
   "cell_type": "markdown",
   "metadata": {},
   "source": [
    "#### Referências"
   ]
  },
  {
   "cell_type": "markdown",
   "metadata": {},
   "source": [
    "* https://bookdown.org/kieranmarray/intro_to_r_for_econometrics/\n",
    "* https://cran.r-project.org/doc/contrib/Farnsworth-EconometricsInR.pdf\n",
    "* https://www.econometrics-with-r.org/\n",
    "* https://www.geeksforgeeks.org/r-programming-language-introduction/\n",
    "* https://www.datacamp.com/tutorial/top-ten-most-important-packages-in-r-for-data-science\n",
    "* http://www.estruturas.ufpr.br/disciplinas/pos-graduacao/introducao-a-computacao-cientifica-com-python/"
   ]
  }
 ],
 "metadata": {
  "kernelspec": {
   "display_name": "Python 3",
   "language": "python",
   "name": "python3"
  },
  "language_info": {
   "codemirror_mode": {
    "name": "ipython",
    "version": 3
   },
   "file_extension": ".py",
   "mimetype": "text/x-python",
   "name": "python",
   "nbconvert_exporter": "python",
   "pygments_lexer": "ipython3",
   "version": "3.8.10"
  }
 },
 "nbformat": 4,
 "nbformat_minor": 4
}
